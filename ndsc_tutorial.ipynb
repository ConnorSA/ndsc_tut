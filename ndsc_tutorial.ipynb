{
 "cells": [
  {
   "cell_type": "markdown",
   "metadata": {},
   "source": [
    "# Non-diagonal supercell maker - python interface"
   ]
  },
  {
   "cell_type": "markdown",
   "metadata": {},
   "source": [
    "First we need to compile the f90 code by Lloyd-Williams and Monserrat found here in the supplementary material: https://journals.aps.org/prb/abstract/10.1103/PhysRevB.92.184301"
   ]
  },
  {
   "cell_type": "code",
   "execution_count": 1,
   "metadata": {},
   "outputs": [
    {
     "name": "stdout",
     "output_type": "stream",
     "text": [
      "/home/u2082051/phd_stuff/ndsc_tut\n"
     ]
    }
   ],
   "source": [
    "import os\n",
    "topdir = os.getcwd()\n",
    "print(topdir)\n",
    "os.chdir('gen_sc')\n",
    "!gfortran generate_supercells.f90 -o generate_supercells"
   ]
  },
  {
   "cell_type": "markdown",
   "metadata": {},
   "source": [
    "### NDSC interface"
   ]
  },
  {
   "cell_type": "code",
   "execution_count": 2,
   "metadata": {},
   "outputs": [],
   "source": [
    "from ase.build.supercells import make_supercell\n",
    "import ase.io\n",
    "import subprocess\n",
    "import numpy as np\n",
    "import spglib\n",
    "\n",
    "#make class for non diagonal\n",
    "class NonDiagonalPhonon:\n",
    "    #initialise some basic info: atoms object, a mesh grid (grid of wavevectors), path to the f90 program\n",
    "    def __init__(self,a,mesh,generate_supercells):\n",
    "        self.set_unit_cell(a)\n",
    "        self.set_generate_supercells(generate_supercells)\n",
    "        self.set_mesh(mesh)     \n",
    "    def set_unit_cell(self,a):\n",
    "        self.atoms = a\n",
    "        self.unit_cell = (a.get_cell(),a.get_scaled_positions(),a.get_atomic_numbers())\n",
    "    #find the IBZ     \n",
    "    def set_mesh(self,mesh):\n",
    "        self.mesh = mesh\n",
    "        mapping, self.grid_full = spglib.get_ir_reciprocal_mesh(self.mesh, self.unit_cell, is_shift=[0, 0, 0])\n",
    "        self.grid_full = self.grid_full / self.mesh\n",
    "        mapping_unique = np.unique(mapping).tolist()\n",
    "        self.grid_unique = self.grid_full[mapping_unique]    \n",
    "        self.mapping = np.array([mapping_unique.index(i) for i in mapping])\n",
    "        self.weights = np.array([np.count_nonzero(m==mapping) for m in mapping_unique])/len(mapping)\n",
    "    \n",
    "    def set_generate_supercells(self,location):\n",
    "        if os.path.exists(location):\n",
    "            self.generate_supercells = location\n",
    "        else:\n",
    "            raise FileNotFoundError(\"Could not find generate_supercells program at {:s}\".format(location))\n",
    "            \n",
    "    def set_nondiagonal_supercells(self):\n",
    "        with open(\"ibz.dat\",\"w\") as f:\n",
    "            for g in self.grid_unique:\n",
    "                f.write((\"{:20.15f}\"*3+\"\\n\").format(*g))\n",
    "        with open(\"grid.dat\",\"w\") as f:\n",
    "            f.write((\"  {:d}\"*3).format(*self.mesh))\n",
    "        with open(\"prim.dat\",\"w\") as f:\n",
    "            for l in self.atoms.get_cell():\n",
    "                f.write((\"{:20.15f}\"*3+\"\\n\").format(*l))\n",
    "        ret = subprocess.run([self.generate_supercells])#, capture_output=True)\n",
    "\n",
    "        kpoint_to_supercell = np.loadtxt(\"kpoint_to_supercell.dat\")\n",
    "        \n",
    "        self.supercells = []\n",
    "        for file_index in np.sort(np.unique(kpoint_to_supercell[:,3])):\n",
    "            self.supercells.append(\n",
    "            np.loadtxt(\"supercell.{:d}.dat\".format(int(file_index)))\n",
    "            )\n",
    "    def get_nondiagonal_supercells(self):\n",
    "        supercell_atoms = []\n",
    "        for s in self.supercells:\n",
    "            s_copy = s * int(np.sign(np.linalg.det(s)))\n",
    "            supercell_atoms.append(make_supercell(a,s_copy))\n",
    "        return supercell_atoms\n"
   ]
  },
  {
   "cell_type": "markdown",
   "metadata": {},
   "source": [
    "### Build an Atoms object or read in a file at this stage:"
   ]
  },
  {
   "cell_type": "code",
   "execution_count": null,
   "metadata": {},
   "outputs": [],
   "source": [
    "a=ase.build.bulk('Al')"
   ]
  },
  {
   "cell_type": "markdown",
   "metadata": {},
   "source": [
    "### Initialise a NonDiagonalPhonon Object: here we define the a user specified mesh density"
   ]
  },
  {
   "cell_type": "code",
   "execution_count": 4,
   "metadata": {},
   "outputs": [],
   "source": [
    "ndp = NonDiagonalPhonon(a,\n",
    "                        mesh=[4,4,4],\n",
    "                        generate_supercells=topdir+\"/gen_sc/generate_supercells\")\n",
    "ndp.set_nondiagonal_supercells()"
   ]
  },
  {
   "cell_type": "markdown",
   "metadata": {},
   "source": [
    "### Get all the non-diagonal supercells for this mesh and store in a list"
   ]
  },
  {
   "cell_type": "code",
   "execution_count": null,
   "metadata": {},
   "outputs": [],
   "source": [
    "all_sc = ndp.get_nondiagonal_supercells()"
   ]
  },
  {
   "cell_type": "markdown",
   "metadata": {},
   "source": [
    "### Visualise the Non-diagonal supercells"
   ]
  },
  {
   "cell_type": "code",
   "execution_count": 10,
   "metadata": {},
   "outputs": [],
   "source": [
    "from ase.visualize import view\n",
    "view(all_sc, viewer='ase')"
   ]
  }
 ],
 "metadata": {
  "kernelspec": {
   "display_name": "Python 3",
   "language": "python",
   "name": "python3"
  },
  "language_info": {
   "codemirror_mode": {
    "name": "ipython",
    "version": 3
   },
   "file_extension": ".py",
   "mimetype": "text/x-python",
   "name": "python",
   "nbconvert_exporter": "python",
   "pygments_lexer": "ipython3",
   "version": "3.8.10"
  }
 },
 "nbformat": 4,
 "nbformat_minor": 4
}
